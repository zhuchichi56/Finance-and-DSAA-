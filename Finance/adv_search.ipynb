{
 "cells": [
  {
   "cell_type": "code",
   "execution_count": 12,
   "metadata": {},
   "outputs": [],
   "source": [
    "from game import TicTacToe,Board\n",
    "import random\n",
    "import math\n",
    "import time\n",
    "infinity = math.inf"
   ]
  },
  {
   "cell_type": "code",
   "execution_count": 13,
   "outputs": [
    {
     "name": "stdout",
     "output_type": "stream",
     "text": [
      ". . .\n",
      ". . .\n",
      ". . .\n",
      "\n"
     ]
    }
   ],
   "source": [
    "board = Board(width=3,height=3,to_move='X')\n",
    "print(board)\n",
    "# square = [{1,2},{2,3}]\n",
    "# board.new({square: 'X'}, to_move='O')\n",
    "\n"
   ],
   "metadata": {
    "collapsed": false
   }
  },
  {
   "cell_type": "markdown",
   "metadata": {},
   "source": [
    "# 1. Getting Started with the Game"
   ]
  },
  {
   "cell_type": "code",
   "execution_count": 2,
   "outputs": [],
   "source": [],
   "metadata": {
    "collapsed": false
   }
  },
  {
   "cell_type": "code",
   "execution_count": 3,
   "metadata": {},
   "outputs": [
    {
     "name": "stdout",
     "output_type": "stream",
     "text": [
      ". . .\n",
      ". . .\n",
      ". . .\n",
      "\n",
      "{(0, 1), (1, 2), (2, 1), (0, 0), (1, 1), (2, 0), (0, 2), (2, 2), (1, 0)}\n",
      ". . .\n",
      "X . .\n",
      ". . .\n",
      "\n"
     ]
    }
   ],
   "source": [
    "# initializing a TicTacToe game\n",
    "game = TicTacToe(height=3, width=3, k=3)\n",
    "board = game.initial\n",
    "\n",
    "# get the possible actions\n",
    "actions = game.actions(board)\n",
    "# to apply a move (the board automatically figures out which player)\n",
    "board_after_move = game.result(board, list(actions)[0])\n",
    "\n",
    "print(board)\n",
    "print(actions)\n",
    "print(board_after_move)"
   ]
  },
  {
   "cell_type": "code",
   "execution_count": 4,
   "metadata": {},
   "outputs": [],
   "source": [
    "def play_game_step(game, state, strategies: dict, verbose=False):\n",
    "    start = time.perf_counter()\n",
    "    player = state.to_move\n",
    "    move = strategies[player](game, state)\n",
    "    state = game.result(state, move)\n",
    "    time_elapsed = time.perf_counter() - start\n",
    "    if verbose: \n",
    "        print('Player', player, 'move:', move, f'time: {time_elapsed:.4f}s', )\n",
    "        print(state)\n",
    "    return state\n",
    "\n",
    "def play_game(game, strategies: dict, verbose=False):\n",
    "    \"\"\"Play a turn-taking game. `strategies` is a {player_name: function} dict,\n",
    "    where function(state, game) is used to get the player's move.\"\"\"\n",
    "    state = game.initial\n",
    "    while not game.is_terminal(state):\n",
    "        state = play_game_step(game, state, strategies, verbose)\n",
    "    return state\n",
    "\n",
    "# setup a random strategy for testing\n",
    "def random_player(game, state): return random.choice(list(game.actions(state)))\n",
    "\n",
    "def search_player(search_algorithm):\n",
    "    \"\"\"A game player who uses the specified search algorithm\"\"\"\n",
    "    return lambda game, state: search_algorithm(game, state)[1] # we expect our search algorithm to return (v, move)"
   ]
  },
  {
   "cell_type": "code",
   "execution_count": 5,
   "metadata": {},
   "outputs": [],
   "source": [
    "# initialize a game\n",
    "game = TicTacToe()\n",
    "state = game.initial\n",
    "strategies = dict(X=random_player, O=random_player)"
   ]
  },
  {
   "cell_type": "code",
   "execution_count": 6,
   "metadata": {},
   "outputs": [
    {
     "name": "stdout",
     "output_type": "stream",
     "text": [
      "Player X move: (1, 0) time: 0.0000s\n",
      ". X .\n",
      ". . .\n",
      ". . .\n",
      "\n"
     ]
    }
   ],
   "source": [
    "# option 1: \n",
    "# play_game(game, strategies, True)\n",
    "\n",
    "# option 2: run it step by step by executing this cell multiple times until the game end\n",
    "if not game.is_terminal(state):\n",
    "    state = play_game_step(game, state, strategies, True)\n",
    "else:\n",
    "    print(f\"Game result: {game.utility(state, 'X')}\")\n",
    "    print(state)"
   ]
  },
  {
   "cell_type": "markdown",
   "metadata": {},
   "source": [
    "# 2. MINIMAX and Alpha-Beta "
   ]
  },
  {
   "cell_type": "markdown",
   "metadata": {},
   "source": []
  },
  {
   "cell_type": "code",
   "execution_count": 7,
   "metadata": {},
   "outputs": [
    {
     "name": "stdout",
     "output_type": "stream",
     "text": [
      "Player X move: (0, 1) time: 4.1600s\n",
      ". . .\n",
      "X . .\n",
      ". . .\n",
      "\n",
      "Player O move: (2, 1) time: 0.0000s\n",
      ". . .\n",
      "X . O\n",
      ". . .\n",
      "\n",
      "Player X move: (1, 2) time: 0.0715s\n",
      ". . .\n",
      "X . O\n",
      ". X .\n",
      "\n",
      "Player O move: (0, 2) time: 0.0000s\n",
      ". . .\n",
      "X . O\n",
      "O X .\n",
      "\n",
      "Player X move: (1, 1) time: 0.0022s\n",
      ". . .\n",
      "X X O\n",
      "O X .\n",
      "\n",
      "Player O move: (2, 0) time: 0.0000s\n",
      ". . O\n",
      "X X O\n",
      "O X .\n",
      "\n",
      "Player X move: (1, 0) time: 0.0001s\n",
      ". X O\n",
      "X X O\n",
      "O X .\n",
      "\n",
      "CPU times: user 4.13 s, sys: 18.9 ms, total: 4.15 s\n",
      "Wall time: 4.23 s\n"
     ]
    },
    {
     "data": {
      "text/plain": ". X O\nX X O\nO X ."
     },
     "execution_count": 7,
     "metadata": {},
     "output_type": "execute_result"
    }
   ],
   "source": [
    "def minimax_search(game, state):\n",
    "    \"\"\"Search game tree to determine best move; return (value, move) pair.\"\"\"\n",
    "\n",
    "    player = state.to_move\n",
    "\n",
    "    def max_value(state):\n",
    "        if game.is_terminal(state):\n",
    "            return game.utility(state, player), None\n",
    "        v, move = -infinity, None\n",
    "\n",
    "        for a in game.actions(state):\n",
    "            v2, _ = min_value(game.result(state, a))\n",
    "            if v<v2:\n",
    "                v =v2\n",
    "                move = a\n",
    "        return v, move\n",
    "\n",
    "    def min_value(state):\n",
    "        if game.is_terminal(state):\n",
    "            return game.utility(state, player), None\n",
    "        v, move = infinity, None\n",
    "\n",
    "        for a in game.actions(state):\n",
    "            v2, _ = max_value(game.result(state, a))\n",
    "            if v>v2:\n",
    "                v = v2\n",
    "                move = a\n",
    "        return v, move\n",
    "\n",
    "    return max_value(state)\n",
    "\n",
    "# test against random_player\n",
    "%time play_game(TicTacToe(), dict(X=search_player(minimax_search), O=random_player), True)"
   ]
  },
  {
   "cell_type": "code",
   "execution_count": 8,
   "metadata": {},
   "outputs": [
    {
     "name": "stdout",
     "output_type": "stream",
     "text": [
      "Player X move: (0, 1) time: 4.1163s\n",
      ". . .\n",
      "X . .\n",
      ". . .\n",
      "\n",
      "Player O move: (2, 1) time: 0.4766s\n",
      ". . .\n",
      "X . O\n",
      ". . .\n",
      "\n",
      "Player X move: (1, 2) time: 0.0723s\n",
      ". . .\n",
      "X . O\n",
      ". X .\n",
      "\n",
      "Player O move: (0, 0) time: 0.0105s\n",
      "O . .\n",
      "X . O\n",
      ". X .\n",
      "\n",
      "Player X move: (1, 1) time: 0.0018s\n",
      "O . .\n",
      "X X O\n",
      ". X .\n",
      "\n",
      "Player O move: (1, 0) time: 0.0003s\n",
      "O O .\n",
      "X X O\n",
      ". X .\n",
      "\n",
      "Player X move: (2, 0) time: 0.0001s\n",
      "O O X\n",
      "X X O\n",
      ". X .\n",
      "\n",
      "Player O move: (0, 2) time: 0.0001s\n",
      "O O X\n",
      "X X O\n",
      "O X .\n",
      "\n",
      "Player X move: (2, 2) time: 0.0000s\n",
      "O O X\n",
      "X X O\n",
      "O X X\n",
      "\n",
      "CPU times: user 4.64 s, sys: 15.8 ms, total: 4.65 s\n",
      "Wall time: 4.68 s\n"
     ]
    },
    {
     "data": {
      "text/plain": "O O X\nX X O\nO X X"
     },
     "execution_count": 8,
     "metadata": {},
     "output_type": "execute_result"
    }
   ],
   "source": [
    "# if you have implemented it right, it will always be a draw for h=w=k=3\n",
    "%time play_game(TicTacToe(), dict(X=search_player(minimax_search), O=search_player(minimax_search)), True)"
   ]
  },
  {
   "cell_type": "markdown",
   "metadata": {},
   "source": []
  },
  {
   "cell_type": "code",
   "execution_count": 9,
   "metadata": {},
   "outputs": [
    {
     "name": "stdout",
     "output_type": "stream",
     "text": [
      "Player X move: (0, 1) time: 0.1834s\n",
      ". . .\n",
      "X . .\n",
      ". . .\n",
      "\n",
      "Player O move: (1, 2) time: 0.0000s\n",
      ". . .\n",
      "X . .\n",
      ". O .\n",
      "\n",
      "Player X move: (1, 1) time: 0.0039s\n",
      ". . .\n",
      "X X .\n",
      ". O .\n",
      "\n",
      "Player O move: (1, 0) time: 0.0000s\n",
      ". O .\n",
      "X X .\n",
      ". O .\n",
      "\n",
      "Player X move: (2, 1) time: 0.0002s\n",
      ". O .\n",
      "X X X\n",
      ". O .\n",
      "\n",
      "CPU times: user 186 ms, sys: 1.92 ms, total: 188 ms\n",
      "Wall time: 188 ms\n"
     ]
    },
    {
     "data": {
      "text/plain": ". O .\nX X X\n. O ."
     },
     "execution_count": 9,
     "metadata": {},
     "output_type": "execute_result"
    }
   ],
   "source": [
    "def alphabeta_search(game, state):\n",
    "    \"\"\"Search game to determine best action; use alpha-beta pruning.\n",
    "    As in [Figure 5.7], this version searches all the way to the leaves.\"\"\"\n",
    "\n",
    "    player = state.to_move\n",
    "    def max_value(state, alpha, beta):\n",
    "        if game.is_terminal(state):\n",
    "            return game.utility(state, player), None\n",
    "        v, move = -infinity, None\n",
    "        for a in game.actions(state):\n",
    "            v2, _ = min_value(game.result(state, a), alpha, beta)\n",
    "            # TODO: update alpha, beta pruning, decide *v* and *move*\n",
    "            if(v2>v):\n",
    "                v,move = v2,a\n",
    "            if v2 > alpha:\n",
    "                alpha = v2\n",
    "            if v2>=beta:\n",
    "                break\n",
    "        return v, move\n",
    "\n",
    "\n",
    "\n",
    "    def min_value(state, alpha, beta):\n",
    "        if game.is_terminal(state):\n",
    "            return game.utility(state, player), None\n",
    "        v, move = infinity, None\n",
    "        for a in game.actions(state):\n",
    "            v2, _ = max_value(game.result(state, a), alpha, beta)\n",
    "            # TODO: update alpha, beta pruning, decide *v* and *move*\n",
    "            if(v2<v):\n",
    "                v,move = v2,a\n",
    "            if v2 < beta:\n",
    "                beta = v2\n",
    "            if v2<=alpha:\n",
    "                break\n",
    "        return v, move\n",
    "\n",
    "    return max_value(state, -infinity, +infinity)\n",
    "\n",
    "# test against random_player\n",
    "%time play_game(TicTacToe(), dict(X=search_player(alphabeta_search), O=random_player), True)"
   ]
  },
  {
   "cell_type": "code",
   "execution_count": 10,
   "metadata": {},
   "outputs": [
    {
     "name": "stdout",
     "output_type": "stream",
     "text": [
      "Player X move: (0, 1) time: 0.1883s\n",
      ". . .\n",
      "X . .\n",
      ". . .\n",
      "\n",
      "Player O move: (2, 1) time: 0.0308s\n",
      ". . .\n",
      "X . O\n",
      ". . .\n",
      "\n",
      "Player X move: (1, 2) time: 0.0096s\n",
      ". . .\n",
      "X . O\n",
      ". X .\n",
      "\n",
      "Player O move: (0, 0) time: 0.0028s\n",
      "O . .\n",
      "X . O\n",
      ". X .\n",
      "\n",
      "Player X move: (1, 1) time: 0.0012s\n",
      "O . .\n",
      "X X O\n",
      ". X .\n",
      "\n",
      "Player O move: (1, 0) time: 0.0001s\n",
      "O O .\n",
      "X X O\n",
      ". X .\n",
      "\n",
      "Player X move: (2, 0) time: 0.0001s\n",
      "O O X\n",
      "X X O\n",
      ". X .\n",
      "\n",
      "Player O move: (0, 2) time: 0.0000s\n",
      "O O X\n",
      "X X O\n",
      "O X .\n",
      "\n",
      "Player X move: (2, 2) time: 0.0000s\n",
      "O O X\n",
      "X X O\n",
      "O X X\n",
      "\n",
      "CPU times: user 231 ms, sys: 2.16 ms, total: 233 ms\n",
      "Wall time: 233 ms\n"
     ]
    },
    {
     "data": {
      "text/plain": "O O X\nX X O\nO X X"
     },
     "execution_count": 10,
     "metadata": {},
     "output_type": "execute_result"
    }
   ],
   "source": [
    "%time play_game(TicTacToe(), dict(X=search_player(alphabeta_search), O=search_player(alphabeta_search)), True)"
   ]
  },
  {
   "cell_type": "markdown",
   "metadata": {},
   "source": []
  }
 ],
 "metadata": {
  "interpreter": {
   "hash": "5708518ee693b55567314c7d79d1222d0ee40b55ee536a3aec67969691c5a596"
  },
  "kernelspec": {
   "display_name": "Python 3",
   "language": "python",
   "name": "python3"
  },
  "language_info": {
   "codemirror_mode": {
    "name": "ipython",
    "version": 3
   },
   "file_extension": ".py",
   "mimetype": "text/x-python",
   "name": "python",
   "nbconvert_exporter": "python",
   "pygments_lexer": "ipython3",
   "version": "3.8.8"
  }
 },
 "nbformat": 4,
 "nbformat_minor": 2
}
